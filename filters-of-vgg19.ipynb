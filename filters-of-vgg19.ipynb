{
 "cells": [
  {
   "cell_type": "code",
   "execution_count": 1,
   "id": "ef3a8fbe",
   "metadata": {
    "_cell_guid": "b1076dfc-b9ad-4769-8c92-a6c4dae69d19",
    "_uuid": "8f2839f25d086af736a60e9eeb907d3b93b6e0e5",
    "execution": {
     "iopub.execute_input": "2022-03-22T14:36:54.426756Z",
     "iopub.status.busy": "2022-03-22T14:36:54.425460Z",
     "iopub.status.idle": "2022-03-22T14:36:59.805276Z",
     "shell.execute_reply": "2022-03-22T14:36:59.804577Z",
     "shell.execute_reply.started": "2022-03-22T13:05:13.833772Z"
    },
    "papermill": {
     "duration": 5.391963,
     "end_time": "2022-03-22T14:36:59.805448",
     "exception": false,
     "start_time": "2022-03-22T14:36:54.413485",
     "status": "completed"
    },
    "tags": []
   },
   "outputs": [],
   "source": [
    "from keras.applications.vgg19 import VGG19\n",
    "from matplotlib import pyplot as plt\n",
    "from keras.models import Model\n",
    "import numpy as np"
   ]
  },
  {
   "cell_type": "code",
   "execution_count": 2,
   "id": "2dc022c4",
   "metadata": {
    "execution": {
     "iopub.execute_input": "2022-03-22T14:36:59.829790Z",
     "iopub.status.busy": "2022-03-22T14:36:59.828929Z",
     "iopub.status.idle": "2022-03-22T14:37:01.079729Z",
     "shell.execute_reply": "2022-03-22T14:37:01.080202Z",
     "shell.execute_reply.started": "2022-03-22T13:05:13.853373Z"
    },
    "papermill": {
     "duration": 1.266449,
     "end_time": "2022-03-22T14:37:01.080391",
     "exception": false,
     "start_time": "2022-03-22T14:36:59.813942",
     "status": "completed"
    },
    "tags": []
   },
   "outputs": [
    {
     "name": "stderr",
     "output_type": "stream",
     "text": [
      "2022-03-22 14:36:59.888119: I tensorflow/core/common_runtime/process_util.cc:146] Creating new thread pool with default inter op setting: 2. Tune using inter_op_parallelism_threads for best performance.\n"
     ]
    },
    {
     "name": "stdout",
     "output_type": "stream",
     "text": [
      "Downloading data from https://storage.googleapis.com/tensorflow/keras-applications/vgg19/vgg19_weights_tf_dim_ordering_tf_kernels_notop.h5\n",
      "80142336/80134624 [==============================] - 0s 0us/step\n",
      "80150528/80134624 [==============================] - 0s 0us/step\n",
      "Model: \"model\"\n",
      "_________________________________________________________________\n",
      "Layer (type)                 Output Shape              Param #   \n",
      "=================================================================\n",
      "input_1 (InputLayer)         [(None, 224, 224, 3)]     0         \n",
      "_________________________________________________________________\n",
      "block1_conv1 (Conv2D)        (None, 224, 224, 64)      1792      \n",
      "_________________________________________________________________\n",
      "block1_conv2 (Conv2D)        (None, 224, 224, 64)      36928     \n",
      "_________________________________________________________________\n",
      "block1_pool (MaxPooling2D)   (None, 112, 112, 64)      0         \n",
      "_________________________________________________________________\n",
      "block2_conv1 (Conv2D)        (None, 112, 112, 128)     73856     \n",
      "_________________________________________________________________\n",
      "block2_conv2 (Conv2D)        (None, 112, 112, 128)     147584    \n",
      "_________________________________________________________________\n",
      "block2_pool (MaxPooling2D)   (None, 56, 56, 128)       0         \n",
      "_________________________________________________________________\n",
      "block3_conv1 (Conv2D)        (None, 56, 56, 256)       295168    \n",
      "_________________________________________________________________\n",
      "block3_conv2 (Conv2D)        (None, 56, 56, 256)       590080    \n",
      "_________________________________________________________________\n",
      "block3_conv3 (Conv2D)        (None, 56, 56, 256)       590080    \n",
      "_________________________________________________________________\n",
      "block3_conv4 (Conv2D)        (None, 56, 56, 256)       590080    \n",
      "_________________________________________________________________\n",
      "block3_pool (MaxPooling2D)   (None, 28, 28, 256)       0         \n",
      "_________________________________________________________________\n",
      "block4_conv1 (Conv2D)        (None, 28, 28, 512)       1180160   \n",
      "_________________________________________________________________\n",
      "block4_conv2 (Conv2D)        (None, 28, 28, 512)       2359808   \n",
      "_________________________________________________________________\n",
      "block4_conv3 (Conv2D)        (None, 28, 28, 512)       2359808   \n",
      "_________________________________________________________________\n",
      "block4_conv4 (Conv2D)        (None, 28, 28, 512)       2359808   \n",
      "_________________________________________________________________\n",
      "block4_pool (MaxPooling2D)   (None, 14, 14, 512)       0         \n",
      "_________________________________________________________________\n",
      "block5_conv1 (Conv2D)        (None, 14, 14, 512)       2359808   \n",
      "_________________________________________________________________\n",
      "block5_conv2 (Conv2D)        (None, 14, 14, 512)       2359808   \n",
      "_________________________________________________________________\n",
      "block5_conv3 (Conv2D)        (None, 14, 14, 512)       2359808   \n",
      "_________________________________________________________________\n",
      "block5_conv4 (Conv2D)        (None, 14, 14, 512)       2359808   \n",
      "=================================================================\n",
      "Total params: 20,024,384\n",
      "Trainable params: 20,024,384\n",
      "Non-trainable params: 0\n",
      "_________________________________________________________________\n"
     ]
    }
   ],
   "source": [
    "vgg19 = VGG19(weights='imagenet',include_top=False,input_shape=(224,224,3))\n",
    "vgg19_short = Model(vgg19.input, vgg19.layers[-2].output)\n",
    "vgg19_short.summary()"
   ]
  },
  {
   "cell_type": "code",
   "execution_count": 3,
   "id": "d1e1bd8a",
   "metadata": {
    "execution": {
     "iopub.execute_input": "2022-03-22T14:37:01.114536Z",
     "iopub.status.busy": "2022-03-22T14:37:01.113555Z",
     "iopub.status.idle": "2022-03-22T14:37:01.118680Z",
     "shell.execute_reply": "2022-03-22T14:37:01.119369Z",
     "shell.execute_reply.started": "2022-03-22T13:05:14.367713Z"
    },
    "papermill": {
     "duration": 0.024896,
     "end_time": "2022-03-22T14:37:01.119592",
     "exception": false,
     "start_time": "2022-03-22T14:37:01.094696",
     "status": "completed"
    },
    "tags": []
   },
   "outputs": [
    {
     "name": "stdout",
     "output_type": "stream",
     "text": [
      "Layer name: block1_conv1 \n",
      "Layer shape (3, 3, 3, 64)\n"
     ]
    }
   ],
   "source": [
    "# valid_conv_layers_of_vgg_199 = [1, 2, 4, 5, 7, 8, 9, 10, 12, 13, 14, 15, 17, 18, 19, 20]\n",
    "index = 1\n",
    "filters, biases = vgg19.layers[index].get_weights()\n",
    "print('Layer name:', vgg19.layers[index].name,'\\nLayer shape', filters.shape)"
   ]
  },
  {
   "cell_type": "markdown",
   "id": "293ae41d",
   "metadata": {
    "papermill": {
     "duration": 0.01426,
     "end_time": "2022-03-22T14:37:01.148957",
     "exception": false,
     "start_time": "2022-03-22T14:37:01.134697",
     "status": "completed"
    },
    "tags": []
   },
   "source": [
    "# What *filters* variable contains?\n",
    "> filters[:, :, :, :] = [rows, cols, n_Prev_dim, filters] = (3, 3, 3, 64)\n",
    "\n",
    "# What would be output of current layer \n",
    "> Output dimensions = (img_heigh, img_width, 64)"
   ]
  },
  {
   "cell_type": "markdown",
   "id": "7ff97fc1",
   "metadata": {
    "papermill": {
     "duration": 0.014326,
     "end_time": "2022-03-22T14:37:01.177798",
     "exception": false,
     "start_time": "2022-03-22T14:37:01.163472",
     "status": "completed"
    },
    "tags": []
   },
   "source": [
    "# 64 filters of block1_conv1's first dimenstion(out of 3)(e.g. for Red channel)"
   ]
  },
  {
   "cell_type": "code",
   "execution_count": 4,
   "id": "987d0f32",
   "metadata": {
    "execution": {
     "iopub.execute_input": "2022-03-22T14:37:01.217952Z",
     "iopub.status.busy": "2022-03-22T14:37:01.214549Z",
     "iopub.status.idle": "2022-03-22T14:37:03.555180Z",
     "shell.execute_reply": "2022-03-22T14:37:03.554577Z",
     "shell.execute_reply.started": "2022-03-22T13:05:14.376619Z"
    },
    "papermill": {
     "duration": 2.363191,
     "end_time": "2022-03-22T14:37:03.555313",
     "exception": false,
     "start_time": "2022-03-22T14:37:01.192122",
     "status": "completed"
    },
    "tags": []
   },
   "outputs": [
    {
     "data": {
      "image/png": "[encoded data removed]",
      "text/plain": [
       "<Figure size 576x864 with 64 Axes>"
      ]
     },
     "metadata": {},
     "output_type": "display_data"
    }
   ],
   "source": [
    "fig1=plt.figure(figsize=(8, 12))\n",
    "columns = 8\n",
    "rows = 8\n",
    "n_filters = columns * rows\n",
    "for i in range(n_filters):\n",
    "    f = filters[:, :, :, i]\n",
    "    fig1 = plt.subplot(rows, columns, i+1)\n",
    "    fig1.set_xticks([])\n",
    "    fig1.set_yticks([])\n",
    "    plt.imshow(f[:, :, 0], cmap='gray')\n",
    "plt.show()"
   ]
  },
  {
   "cell_type": "markdown",
   "id": "8e58f440",
   "metadata": {
    "papermill": {
     "duration": 0.014844,
     "end_time": "2022-03-22T14:37:03.585753",
     "exception": false,
     "start_time": "2022-03-22T14:37:03.570909",
     "status": "completed"
    },
    "tags": []
   },
   "source": [
    "# Block1_conv1's first filter of size (3, 3, 3)(Because input channel has 3 layers)"
   ]
  },
  {
   "cell_type": "code",
   "execution_count": 5,
   "id": "f4ad9f6c",
   "metadata": {
    "execution": {
     "iopub.execute_input": "2022-03-22T14:37:03.638123Z",
     "iopub.status.busy": "2022-03-22T14:37:03.630848Z",
     "iopub.status.idle": "2022-03-22T14:37:03.769386Z",
     "shell.execute_reply": "2022-03-22T14:37:03.770388Z",
     "shell.execute_reply.started": "2022-03-22T13:05:16.519342Z"
    },
    "papermill": {
     "duration": 0.168962,
     "end_time": "2022-03-22T14:37:03.770708",
     "exception": false,
     "start_time": "2022-03-22T14:37:03.601746",
     "status": "completed"
    },
    "tags": []
   },
   "outputs": [
    {
     "data": {
      "image/png": "[encoded data removed]",
      "text/plain": [
       "<Figure size 576x576 with 3 Axes>"
      ]
     },
     "metadata": {},
     "output_type": "display_data"
    }
   ],
   "source": [
    "fig=plt.figure(figsize=(8, 8))\n",
    "f = filters[:, :, :, 0] # extracting 1st filter from 64 filters | f.shape = (3, 3, 3)\n",
    "\n",
    "for i in range(3):\n",
    "    fig = plt.subplot(1, 3, i+1)\n",
    "    fig.set_xticks([])\n",
    "    fig.set_yticks([])\n",
    "    plt.imshow(f[:, :, i], cmap='gray')"
   ]
  }
 ],
 "metadata": {
  "kernelspec": {
   "display_name": "Python 3",
   "language": "python",
   "name": "python3"
  },
  "language_info": {
   "codemirror_mode": {
    "name": "ipython",
    "version": 3
   },
   "file_extension": ".py",
   "mimetype": "text/x-python",
   "name": "python",
   "nbconvert_exporter": "python",
   "pygments_lexer": "ipython3",
   "version": "3.7.12"
  },
  "papermill": {
   "default_parameters": {},
   "duration": 21.554724,
   "end_time": "2022-03-22T14:37:06.602902",
   "environment_variables": {},
   "exception": null,
   "input_path": "__notebook__.ipynb",
   "output_path": "__notebook__.ipynb",
   "parameters": {},
   "start_time": "2022-03-22T14:36:45.048178",
   "version": "2.3.3"
  }
 },
 "nbformat": 4,
 "nbformat_minor": 5
}
