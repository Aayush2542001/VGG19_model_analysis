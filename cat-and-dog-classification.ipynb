{
 "cells": [
  {
   "cell_type": "markdown",
   "id": "9de7b2fd",
   "metadata": {
    "papermill": {
     "duration": 0.012308,
     "end_time": "2022-03-22T14:51:14.794721",
     "exception": false,
     "start_time": "2022-03-22T14:51:14.782413",
     "status": "completed"
    },
    "tags": []
   },
   "source": [
    "# Imports"
   ]
  },
  {
   "cell_type": "code",
   "execution_count": 1,
   "id": "2fb643a2",
   "metadata": {
    "execution": {
     "iopub.execute_input": "2022-03-22T14:51:14.820752Z",
     "iopub.status.busy": "2022-03-22T14:51:14.819184Z",
     "iopub.status.idle": "2022-03-22T14:51:20.294498Z",
     "shell.execute_reply": "2022-03-22T14:51:20.294916Z",
     "shell.execute_reply.started": "2022-03-22T14:30:52.875117Z"
    },
    "papermill": {
     "duration": 5.490088,
     "end_time": "2022-03-22T14:51:20.295216",
     "exception": false,
     "start_time": "2022-03-22T14:51:14.805128",
     "status": "completed"
    },
    "tags": []
   },
   "outputs": [],
   "source": [
    "from keras.applications.vgg19 import VGG19\n",
    "from keras.models import Model\n",
    "from keras.preprocessing.image import load_img, img_to_array\n",
    "from keras.layers.convolutional import *\n",
    "from keras.layers.pooling import *\n",
    "from keras import backend as K\n",
    "\n",
    "from tensorflow.keras.models import Sequential,load_model\n",
    "from tensorflow.keras.layers import Activation,Dense, Flatten\n",
    "from tensorflow import keras\n",
    "from tensorflow.keras.optimizers import Adam\n",
    "\n",
    "from matplotlib import pyplot as plt\n",
    "from PIL import Image\n",
    "\n",
    "import numpy as np\n",
    "import pandas as pd\n",
    "import os"
   ]
  },
  {
   "cell_type": "code",
   "execution_count": 2,
   "id": "fdb7ec52",
   "metadata": {
    "execution": {
     "iopub.execute_input": "2022-03-22T14:51:20.319650Z",
     "iopub.status.busy": "2022-03-22T14:51:20.319006Z",
     "iopub.status.idle": "2022-03-22T14:51:23.294312Z",
     "shell.execute_reply": "2022-03-22T14:51:23.293493Z",
     "shell.execute_reply.started": "2022-03-22T14:30:58.007580Z"
    },
    "papermill": {
     "duration": 2.98974,
     "end_time": "2022-03-22T14:51:23.294442",
     "exception": false,
     "start_time": "2022-03-22T14:51:20.304702",
     "status": "completed"
    },
    "tags": []
   },
   "outputs": [
    {
     "name": "stderr",
     "output_type": "stream",
     "text": [
      "2022-03-22 14:51:20.399026: I tensorflow/stream_executor/cuda/cuda_gpu_executor.cc:937] successful NUMA node read from SysFS had negative value (-1), but there must be at least one NUMA node, so returning NUMA node zero\n",
      "2022-03-22 14:51:20.489462: I tensorflow/stream_executor/cuda/cuda_gpu_executor.cc:937] successful NUMA node read from SysFS had negative value (-1), but there must be at least one NUMA node, so returning NUMA node zero\n",
      "2022-03-22 14:51:20.490197: I tensorflow/stream_executor/cuda/cuda_gpu_executor.cc:937] successful NUMA node read from SysFS had negative value (-1), but there must be at least one NUMA node, so returning NUMA node zero\n",
      "2022-03-22 14:51:20.491378: I tensorflow/core/platform/cpu_feature_guard.cc:142] This TensorFlow binary is optimized with oneAPI Deep Neural Network Library (oneDNN) to use the following CPU instructions in performance-critical operations:  AVX2 AVX512F FMA\n",
      "To enable them in other operations, rebuild TensorFlow with the appropriate compiler flags.\n",
      "2022-03-22 14:51:20.492148: I tensorflow/stream_executor/cuda/cuda_gpu_executor.cc:937] successful NUMA node read from SysFS had negative value (-1), but there must be at least one NUMA node, so returning NUMA node zero\n",
      "2022-03-22 14:51:20.492876: I tensorflow/stream_executor/cuda/cuda_gpu_executor.cc:937] successful NUMA node read from SysFS had negative value (-1), but there must be at least one NUMA node, so returning NUMA node zero\n",
      "2022-03-22 14:51:20.493531: I tensorflow/stream_executor/cuda/cuda_gpu_executor.cc:937] successful NUMA node read from SysFS had negative value (-1), but there must be at least one NUMA node, so returning NUMA node zero\n",
      "2022-03-22 14:51:22.214065: I tensorflow/stream_executor/cuda/cuda_gpu_executor.cc:937] successful NUMA node read from SysFS had negative value (-1), but there must be at least one NUMA node, so returning NUMA node zero\n",
      "2022-03-22 14:51:22.214949: I tensorflow/stream_executor/cuda/cuda_gpu_executor.cc:937] successful NUMA node read from SysFS had negative value (-1), but there must be at least one NUMA node, so returning NUMA node zero\n",
      "2022-03-22 14:51:22.215708: I tensorflow/stream_executor/cuda/cuda_gpu_executor.cc:937] successful NUMA node read from SysFS had negative value (-1), but there must be at least one NUMA node, so returning NUMA node zero\n",
      "2022-03-22 14:51:22.216325: I tensorflow/core/common_runtime/gpu/gpu_device.cc:1510] Created device /job:localhost/replica:0/task:0/device:GPU:0 with 15403 MB memory:  -> device: 0, name: Tesla P100-PCIE-16GB, pci bus id: 0000:00:04.0, compute capability: 6.0\n"
     ]
    },
    {
     "name": "stdout",
     "output_type": "stream",
     "text": [
      "Downloading data from https://storage.googleapis.com/tensorflow/keras-applications/vgg19/vgg19_weights_tf_dim_ordering_tf_kernels_notop.h5\n",
      "80142336/80134624 [==============================] - 0s 0us/step\n",
      "80150528/80134624 [==============================] - 0s 0us/step\n",
      "Model: \"vgg19\"\n",
      "_________________________________________________________________\n",
      "Layer (type)                 Output Shape              Param #   \n",
      "=================================================================\n",
      "input_1 (InputLayer)         [(None, 224, 224, 3)]     0         \n",
      "_________________________________________________________________\n",
      "block1_conv1 (Conv2D)        (None, 224, 224, 64)      1792      \n",
      "_________________________________________________________________\n",
      "block1_conv2 (Conv2D)        (None, 224, 224, 64)      36928     \n",
      "_________________________________________________________________\n",
      "block1_pool (MaxPooling2D)   (None, 112, 112, 64)      0         \n",
      "_________________________________________________________________\n",
      "block2_conv1 (Conv2D)        (None, 112, 112, 128)     73856     \n",
      "_________________________________________________________________\n",
      "block2_conv2 (Conv2D)        (None, 112, 112, 128)     147584    \n",
      "_________________________________________________________________\n",
      "block2_pool (MaxPooling2D)   (None, 56, 56, 128)       0         \n",
      "_________________________________________________________________\n",
      "block3_conv1 (Conv2D)        (None, 56, 56, 256)       295168    \n",
      "_________________________________________________________________\n",
      "block3_conv2 (Conv2D)        (None, 56, 56, 256)       590080    \n",
      "_________________________________________________________________\n",
      "block3_conv3 (Conv2D)        (None, 56, 56, 256)       590080    \n",
      "_________________________________________________________________\n",
      "block3_conv4 (Conv2D)        (None, 56, 56, 256)       590080    \n",
      "_________________________________________________________________\n",
      "block3_pool (MaxPooling2D)   (None, 28, 28, 256)       0         \n",
      "_________________________________________________________________\n",
      "block4_conv1 (Conv2D)        (None, 28, 28, 512)       1180160   \n",
      "_________________________________________________________________\n",
      "block4_conv2 (Conv2D)        (None, 28, 28, 512)       2359808   \n",
      "_________________________________________________________________\n",
      "block4_conv3 (Conv2D)        (None, 28, 28, 512)       2359808   \n",
      "_________________________________________________________________\n",
      "block4_conv4 (Conv2D)        (None, 28, 28, 512)       2359808   \n",
      "_________________________________________________________________\n",
      "block4_pool (MaxPooling2D)   (None, 14, 14, 512)       0         \n",
      "_________________________________________________________________\n",
      "block5_conv1 (Conv2D)        (None, 14, 14, 512)       2359808   \n",
      "_________________________________________________________________\n",
      "block5_conv2 (Conv2D)        (None, 14, 14, 512)       2359808   \n",
      "_________________________________________________________________\n",
      "block5_conv3 (Conv2D)        (None, 14, 14, 512)       2359808   \n",
      "_________________________________________________________________\n",
      "block5_conv4 (Conv2D)        (None, 14, 14, 512)       2359808   \n",
      "_________________________________________________________________\n",
      "block5_pool (MaxPooling2D)   (None, 7, 7, 512)         0         \n",
      "=================================================================\n",
      "Total params: 20,024,384\n",
      "Trainable params: 20,024,384\n",
      "Non-trainable params: 0\n",
      "_________________________________________________________________\n"
     ]
    }
   ],
   "source": [
    "vgg19 = VGG19(weights='imagenet',include_top=False,input_shape=(224,224,3))\n",
    "vgg19.summary()"
   ]
  },
  {
   "cell_type": "code",
   "execution_count": 3,
   "id": "22ee32f2",
   "metadata": {
    "_cell_guid": "b1076dfc-b9ad-4769-8c92-a6c4dae69d19",
    "_uuid": "8f2839f25d086af736a60e9eeb907d3b93b6e0e5",
    "execution": {
     "iopub.execute_input": "2022-03-22T14:51:23.327485Z",
     "iopub.status.busy": "2022-03-22T14:51:23.326714Z",
     "iopub.status.idle": "2022-03-22T14:51:23.332939Z",
     "shell.execute_reply": "2022-03-22T14:51:23.332548Z",
     "shell.execute_reply.started": "2022-03-22T14:31:01.234362Z"
    },
    "papermill": {
     "duration": 0.02497,
     "end_time": "2022-03-22T14:51:23.333066",
     "exception": false,
     "start_time": "2022-03-22T14:51:23.308096",
     "status": "completed"
    },
    "tags": []
   },
   "outputs": [],
   "source": [
    "vgg19_short = Model(vgg19.input, vgg19.layers[-2].output) # removing last max-pool\n",
    "\n",
    "for i in range(21):\n",
    "    vgg19_short.layers[i].trainable = False"
   ]
  },
  {
   "cell_type": "code",
   "execution_count": 4,
   "id": "a7248d1c",
   "metadata": {
    "execution": {
     "iopub.execute_input": "2022-03-22T14:51:23.363878Z",
     "iopub.status.busy": "2022-03-22T14:51:23.362332Z",
     "iopub.status.idle": "2022-03-22T14:51:23.438298Z",
     "shell.execute_reply": "2022-03-22T14:51:23.438823Z",
     "shell.execute_reply.started": "2022-03-22T14:44:57.010375Z"
    },
    "papermill": {
     "duration": 0.09317,
     "end_time": "2022-03-22T14:51:23.438997",
     "exception": false,
     "start_time": "2022-03-22T14:51:23.345827",
     "status": "completed"
    },
    "tags": []
   },
   "outputs": [
    {
     "name": "stdout",
     "output_type": "stream",
     "text": [
      "Model: \"sequential\"\n",
      "_________________________________________________________________\n",
      "Layer (type)                 Output Shape              Param #   \n",
      "=================================================================\n",
      "model (Functional)           (None, 14, 14, 512)       20024384  \n",
      "_________________________________________________________________\n",
      "flatten (Flatten)            (None, 100352)            0         \n",
      "_________________________________________________________________\n",
      "dense (Dense)                (None, 2)                 200706    \n",
      "=================================================================\n",
      "Total params: 20,225,090\n",
      "Trainable params: 200,706\n",
      "Non-trainable params: 20,024,384\n",
      "_________________________________________________________________\n"
     ]
    }
   ],
   "source": [
    "K.clear_session()\n",
    "my_model = Sequential(\n",
    "    [\n",
    "        vgg19_short,\n",
    "        Flatten(),\n",
    "        Dense(units=2, activation='softmax')\n",
    "    ]\n",
    ")\n",
    "\n",
    "my_model.summary()"
   ]
  },
  {
   "cell_type": "code",
   "execution_count": 5,
   "id": "fe663c45",
   "metadata": {
    "execution": {
     "iopub.execute_input": "2022-03-22T14:51:23.473086Z",
     "iopub.status.busy": "2022-03-22T14:51:23.468211Z",
     "iopub.status.idle": "2022-03-22T14:51:23.475656Z",
     "shell.execute_reply": "2022-03-22T14:51:23.476012Z",
     "shell.execute_reply.started": "2022-03-22T14:31:01.325144Z"
    },
    "papermill": {
     "duration": 0.023672,
     "end_time": "2022-03-22T14:51:23.476209",
     "exception": false,
     "start_time": "2022-03-22T14:51:23.452537",
     "status": "completed"
    },
    "tags": []
   },
   "outputs": [],
   "source": [
    "Encode = {\n",
    "    'cats': 0,\n",
    "    'dogs': 1\n",
    "}\n",
    "def Data_Loading(base_path):\n",
    "    XList, YList = [], []\n",
    "\n",
    "    for directory in os.listdir(base_path): # directory = cats | dogs\n",
    "        for imageName in os.listdir(base_path + '/' + directory): # fileName.jpg | other\n",
    "            try:\n",
    "                XList.append(np.array(Image.open(base_path + '/' + directory + '/' + imageName).resize((224,224), Image.ANTIALIAS)))\n",
    "                YList.append(Encode[directory])\n",
    "            except:\n",
    "                pass\n",
    "        print(directory+\"'s Image Loaded\")\n",
    "\n",
    "    X = np.array(XList)\n",
    "    Y = np.array(YList)\n",
    "    return X,Y"
   ]
  },
  {
   "cell_type": "code",
   "execution_count": 6,
   "id": "959ffb37",
   "metadata": {
    "execution": {
     "iopub.execute_input": "2022-03-22T14:51:23.506749Z",
     "iopub.status.busy": "2022-03-22T14:51:23.506269Z",
     "iopub.status.idle": "2022-03-22T14:53:11.053904Z",
     "shell.execute_reply": "2022-03-22T14:53:11.054485Z",
     "shell.execute_reply.started": "2022-03-22T14:31:01.336173Z"
    },
    "papermill": {
     "duration": 107.565233,
     "end_time": "2022-03-22T14:53:11.054651",
     "exception": false,
     "start_time": "2022-03-22T14:51:23.489418",
     "status": "completed"
    },
    "tags": []
   },
   "outputs": [
    {
     "name": "stdout",
     "output_type": "stream",
     "text": [
      "dogs's Image Loaded\n",
      "cats's Image Loaded\n",
      "(8005, 224, 224, 3)\n",
      "(8005,)\n",
      "dogs's Image Loaded\n",
      "cats's Image Loaded\n",
      "(2023, 224, 224, 3)\n",
      "(2023,)\n"
     ]
    }
   ],
   "source": [
    "train_folder = '/kaggle/input/cat-and-dog/training_set/training_set'\n",
    "test_folder = '/kaggle/input/cat-and-dog/test_set/test_set'\n",
    "\n",
    "X_train,Y_train = Data_Loading(train_folder)\n",
    "print(X_train.shape)\n",
    "print(Y_train.shape)\n",
    "\n",
    "X_test,Y_test = Data_Loading(test_folder)\n",
    "print(X_test.shape)\n",
    "print(Y_test.shape)"
   ]
  },
  {
   "cell_type": "code",
   "execution_count": 7,
   "id": "139de712",
   "metadata": {
    "execution": {
     "iopub.execute_input": "2022-03-22T14:53:11.093344Z",
     "iopub.status.busy": "2022-03-22T14:53:11.092585Z",
     "iopub.status.idle": "2022-03-22T14:53:11.100660Z",
     "shell.execute_reply": "2022-03-22T14:53:11.100221Z",
     "shell.execute_reply.started": "2022-03-22T14:45:19.006570Z"
    },
    "papermill": {
     "duration": 0.031346,
     "end_time": "2022-03-22T14:53:11.100764",
     "exception": false,
     "start_time": "2022-03-22T14:53:11.069418",
     "status": "completed"
    },
    "tags": []
   },
   "outputs": [],
   "source": [
    "my_model.compile(optimizer=Adam(learning_rate=0.0001), loss='sparse_categorical_crossentropy', metrics=['accuracy'])"
   ]
  },
  {
   "cell_type": "code",
   "execution_count": 8,
   "id": "f81b228d",
   "metadata": {
    "execution": {
     "iopub.execute_input": "2022-03-22T14:53:11.134413Z",
     "iopub.status.busy": "2022-03-22T14:53:11.133650Z",
     "iopub.status.idle": "2022-03-22T14:56:35.704522Z",
     "shell.execute_reply": "2022-03-22T14:56:35.705301Z",
     "shell.execute_reply.started": "2022-03-22T14:46:09.719886Z"
    },
    "papermill": {
     "duration": 204.590426,
     "end_time": "2022-03-22T14:56:35.705551",
     "exception": false,
     "start_time": "2022-03-22T14:53:11.115125",
     "status": "completed"
    },
    "tags": []
   },
   "outputs": [
    {
     "name": "stderr",
     "output_type": "stream",
     "text": [
      "2022-03-22 14:53:11.134430: W tensorflow/core/framework/cpu_allocator_impl.cc:80] Allocation of 1204976640 exceeds 10% of free system memory.\n",
      "2022-03-22 14:53:12.344572: W tensorflow/core/framework/cpu_allocator_impl.cc:80] Allocation of 1204976640 exceeds 10% of free system memory.\n",
      "2022-03-22 14:53:13.222334: I tensorflow/compiler/mlir/mlir_graph_optimization_pass.cc:185] None of the MLIR Optimization Passes are enabled (registered 2)\n"
     ]
    },
    {
     "name": "stdout",
     "output_type": "stream",
     "text": [
      "Epoch 1/7\n"
     ]
    },
    {
     "name": "stderr",
     "output_type": "stream",
     "text": [
      "2022-03-22 14:53:14.559556: I tensorflow/stream_executor/cuda/cuda_dnn.cc:369] Loaded cuDNN version 8005\n"
     ]
    },
    {
     "name": "stdout",
     "output_type": "stream",
     "text": [
      "32/32 [==============================] - 65s 1s/step - loss: 1.3964 - accuracy: 0.8828 - val_loss: 0.5711 - val_accuracy: 0.9575\n",
      "Epoch 2/7\n",
      "32/32 [==============================] - 20s 627ms/step - loss: 0.1418 - accuracy: 0.9808 - val_loss: 0.5095 - val_accuracy: 0.9639\n",
      "Epoch 3/7\n",
      "32/32 [==============================] - 20s 630ms/step - loss: 0.0176 - accuracy: 0.9960 - val_loss: 0.5051 - val_accuracy: 0.9659\n",
      "Epoch 4/7\n",
      "32/32 [==============================] - 20s 629ms/step - loss: 0.0026 - accuracy: 0.9989 - val_loss: 0.5117 - val_accuracy: 0.9619\n",
      "Epoch 5/7\n",
      "32/32 [==============================] - 20s 630ms/step - loss: 9.6916e-04 - accuracy: 0.9999 - val_loss: 0.5080 - val_accuracy: 0.9624\n",
      "Epoch 6/7\n",
      "32/32 [==============================] - 20s 632ms/step - loss: 1.1949e-04 - accuracy: 1.0000 - val_loss: 0.5056 - val_accuracy: 0.9624\n",
      "Epoch 7/7\n",
      "32/32 [==============================] - 20s 630ms/step - loss: 6.2949e-05 - accuracy: 1.0000 - val_loss: 0.5056 - val_accuracy: 0.9624\n"
     ]
    }
   ],
   "source": [
    "history = my_model.fit(x=X_train, y=Y_train, batch_size=256, validation_data=(X_test,Y_test), epochs=7,shuffle=True, verbose=1)"
   ]
  },
  {
   "cell_type": "code",
   "execution_count": 9,
   "id": "0957e5e5",
   "metadata": {
    "execution": {
     "iopub.execute_input": "2022-03-22T14:56:36.044580Z",
     "iopub.status.busy": "2022-03-22T14:56:36.043757Z",
     "iopub.status.idle": "2022-03-22T14:56:36.310144Z",
     "shell.execute_reply": "2022-03-22T14:56:36.310571Z",
     "shell.execute_reply.started": "2022-03-22T14:39:24.301504Z"
    },
    "papermill": {
     "duration": 0.427962,
     "end_time": "2022-03-22T14:56:36.310724",
     "exception": false,
     "start_time": "2022-03-22T14:56:35.882762",
     "status": "completed"
    },
    "tags": []
   },
   "outputs": [
    {
     "data": {
      "image/png": "[encoded data removed]",
      "text/plain": [
       "<Figure size 432x288 with 1 Axes>"
      ]
     },
     "metadata": {
      "needs_background": "light"
     },
     "output_type": "display_data"
    }
   ],
   "source": [
    "plt.plot(history.history['accuracy'])\n",
    "plt.plot(history.history['val_accuracy'])\n",
    "plt.title('model accuracy')\n",
    "plt.ylabel('accuracy')\n",
    "plt.xlabel('epoch')\n",
    "plt.legend(['train', 'val'], loc='upper left')\n",
    "plt.show()"
   ]
  }
 ],
 "metadata": {
  "kernelspec": {
   "display_name": "Python 3",
   "language": "python",
   "name": "python3"
  },
  "language_info": {
   "codemirror_mode": {
    "name": "ipython",
    "version": 3
   },
   "file_extension": ".py",
   "mimetype": "text/x-python",
   "name": "python",
   "nbconvert_exporter": "python",
   "pygments_lexer": "ipython3",
   "version": "3.7.12"
  },
  "papermill": {
   "default_parameters": {},
   "duration": 332.429619,
   "end_time": "2022-03-22T14:56:39.364502",
   "environment_variables": {},
   "exception": null,
   "input_path": "__notebook__.ipynb",
   "output_path": "__notebook__.ipynb",
   "parameters": {},
   "start_time": "2022-03-22T14:51:06.934883",
   "version": "2.3.3"
  }
 },
 "nbformat": 4,
 "nbformat_minor": 5
}
