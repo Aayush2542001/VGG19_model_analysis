{
 "cells": [
  {
   "cell_type": "code",
   "execution_count": 1,
   "id": "f3b997d7",
   "metadata": {
    "_cell_guid": "b1076dfc-b9ad-4769-8c92-a6c4dae69d19",
    "_uuid": "8f2839f25d086af736a60e9eeb907d3b93b6e0e5",
    "execution": {
     "iopub.execute_input": "2022-03-22T12:24:15.134047Z",
     "iopub.status.busy": "2022-03-22T12:24:15.133312Z",
     "iopub.status.idle": "2022-03-22T12:24:21.549434Z",
     "shell.execute_reply": "2022-03-22T12:24:21.550081Z",
     "shell.execute_reply.started": "2022-03-22T12:23:35.792401Z"
    },
    "papermill": {
     "duration": 6.442078,
     "end_time": "2022-03-22T12:24:21.550392",
     "exception": false,
     "start_time": "2022-03-22T12:24:15.108314",
     "status": "completed"
    },
    "tags": []
   },
   "outputs": [],
   "source": [
    "from keras.applications.vgg19 import VGG19\n",
    "from keras.models import Model, load_model\n",
    "from keras.preprocessing.image import img_to_array\n",
    "\n",
    "from PIL import Image\n",
    "\n",
    "import numpy as np"
   ]
  },
  {
   "cell_type": "code",
   "execution_count": 2,
   "id": "bbed4ca7",
   "metadata": {
    "execution": {
     "iopub.execute_input": "2022-03-22T12:24:21.588534Z",
     "iopub.status.busy": "2022-03-22T12:24:21.587739Z",
     "iopub.status.idle": "2022-03-22T12:24:23.109482Z",
     "shell.execute_reply": "2022-03-22T12:24:23.108266Z",
     "shell.execute_reply.started": "2022-03-22T12:23:35.845080Z"
    },
    "papermill": {
     "duration": 1.544299,
     "end_time": "2022-03-22T12:24:23.109656",
     "exception": false,
     "start_time": "2022-03-22T12:24:21.565357",
     "status": "completed"
    },
    "tags": []
   },
   "outputs": [
    {
     "name": "stderr",
     "output_type": "stream",
     "text": [
      "2022-03-22 12:24:21.656281: I tensorflow/core/common_runtime/process_util.cc:146] Creating new thread pool with default inter op setting: 2. Tune using inter_op_parallelism_threads for best performance.\n"
     ]
    },
    {
     "name": "stdout",
     "output_type": "stream",
     "text": [
      "Downloading data from https://storage.googleapis.com/tensorflow/keras-applications/vgg19/vgg19_weights_tf_dim_ordering_tf_kernels_notop.h5\n",
      "80142336/80134624 [==============================] - 1s 0us/step\n",
      "80150528/80134624 [==============================] - 1s 0us/step\n"
     ]
    }
   ],
   "source": [
    "vgg19 = VGG19(weights='imagenet',include_top=False,input_shape=(224,224,3))"
   ]
  },
  {
   "cell_type": "markdown",
   "id": "d3b30cdc",
   "metadata": {
    "papermill": {
     "duration": 0.02085,
     "end_time": "2022-03-22T12:24:23.152133",
     "exception": false,
     "start_time": "2022-03-22T12:24:23.131283",
     "status": "completed"
    },
    "tags": []
   },
   "source": [
    "# Importing test image of dog and cat\n",
    "*img_arr* is numpy array for input in model"
   ]
  },
  {
   "cell_type": "code",
   "execution_count": 3,
   "id": "12523e0f",
   "metadata": {
    "execution": {
     "iopub.execute_input": "2022-03-22T12:24:23.198211Z",
     "iopub.status.busy": "2022-03-22T12:24:23.197222Z",
     "iopub.status.idle": "2022-03-22T12:24:23.245650Z",
     "shell.execute_reply": "2022-03-22T12:24:23.245011Z",
     "shell.execute_reply.started": "2022-03-22T12:23:36.424170Z"
    },
    "papermill": {
     "duration": 0.072639,
     "end_time": "2022-03-22T12:24:23.245820",
     "exception": false,
     "start_time": "2022-03-22T12:24:23.173181",
     "status": "completed"
    },
    "tags": []
   },
   "outputs": [],
   "source": [
    "dog = Image.open('/kaggle/input/cat-and-dog/training_set/training_set/dogs/dog.1.jpg')\n",
    "dog = dog.resize((224,224), Image.ANTIALIAS)\n",
    "\n",
    "cat = Image.open('/kaggle/input/cat-and-dog/training_set/training_set/cats/cat.1.jpg')\n",
    "cat = cat.resize((224,224), Image.ANTIALIAS)\n",
    "\n",
    "img_arr = img_to_array(dog) # or 'cat'\n",
    "img_arr = np.expand_dims(img_arr, axis=0)"
   ]
  },
  {
   "cell_type": "markdown",
   "id": "ac16e6ce",
   "metadata": {
    "papermill": {
     "duration": 0.020444,
     "end_time": "2022-03-22T12:24:23.287545",
     "exception": false,
     "start_time": "2022-03-22T12:24:23.267101",
     "status": "completed"
    },
    "tags": []
   },
   "source": [
    "# trained model on vgg19\n",
    "**vgg19's block5_conv4** is flattened and connected with 2 classes [dog and cat]"
   ]
  },
  {
   "cell_type": "code",
   "execution_count": 4,
   "id": "a1f881bc",
   "metadata": {
    "execution": {
     "iopub.execute_input": "2022-03-22T12:24:23.333891Z",
     "iopub.status.busy": "2022-03-22T12:24:23.333105Z",
     "iopub.status.idle": "2022-03-22T12:24:25.319396Z",
     "shell.execute_reply": "2022-03-22T12:24:25.319983Z",
     "shell.execute_reply.started": "2022-03-22T12:23:36.449136Z"
    },
    "papermill": {
     "duration": 2.011585,
     "end_time": "2022-03-22T12:24:25.320178",
     "exception": false,
     "start_time": "2022-03-22T12:24:23.308593",
     "status": "completed"
    },
    "tags": []
   },
   "outputs": [],
   "source": [
    "my_model = load_model('/kaggle/input/kernel-cat-vs-dog/cat_vs_dog.h5')"
   ]
  },
  {
   "cell_type": "markdown",
   "id": "0a46104e",
   "metadata": {
    "papermill": {
     "duration": 0.02102,
     "end_time": "2022-03-22T12:24:25.364057",
     "exception": false,
     "start_time": "2022-03-22T12:24:25.343037",
     "status": "completed"
    },
    "tags": []
   },
   "source": [
    "# Accessing weights\n",
    "**cat_weights** contains flattened to cat class weights\n",
    "\n",
    "**dog_weights** contains flattened to dog class weights"
   ]
  },
  {
   "cell_type": "code",
   "execution_count": 5,
   "id": "bc2712c6",
   "metadata": {
    "execution": {
     "iopub.execute_input": "2022-03-22T12:24:25.411855Z",
     "iopub.status.busy": "2022-03-22T12:24:25.411179Z",
     "iopub.status.idle": "2022-03-22T12:24:25.415969Z",
     "shell.execute_reply": "2022-03-22T12:24:25.416653Z",
     "shell.execute_reply.started": "2022-03-22T12:23:38.548190Z"
    },
    "papermill": {
     "duration": 0.031974,
     "end_time": "2022-03-22T12:24:25.416887",
     "exception": false,
     "start_time": "2022-03-22T12:24:25.384913",
     "status": "completed"
    },
    "tags": []
   },
   "outputs": [
    {
     "name": "stdout",
     "output_type": "stream",
     "text": [
      "(100352,)\n",
      "(100352,)\n"
     ]
    }
   ],
   "source": [
    "last_weights, biases = my_model.layers[2].get_weights()\n",
    "\n",
    "cat_weight = last_weights[:,0]  # 0 for cat || 1 for dog\n",
    "dog_weight = last_weights[:,1]\n",
    "\n",
    "print(cat_weight.shape)\n",
    "print(dog_weight.shape)"
   ]
  },
  {
   "cell_type": "markdown",
   "id": "8b00ead3",
   "metadata": {
    "papermill": {
     "duration": 0.020755,
     "end_time": "2022-03-22T12:24:25.459410",
     "exception": false,
     "start_time": "2022-03-22T12:24:25.438655",
     "status": "completed"
    },
    "tags": []
   },
   "source": [
    "# Sub model of my_model\n",
    "Instead of two classes, it gives output of flatten layer"
   ]
  },
  {
   "cell_type": "code",
   "execution_count": 6,
   "id": "0fe73231",
   "metadata": {
    "execution": {
     "iopub.execute_input": "2022-03-22T12:24:25.505291Z",
     "iopub.status.busy": "2022-03-22T12:24:25.504318Z",
     "iopub.status.idle": "2022-03-22T12:24:25.511683Z",
     "shell.execute_reply": "2022-03-22T12:24:25.512150Z",
     "shell.execute_reply.started": "2022-03-22T12:23:38.559270Z"
    },
    "papermill": {
     "duration": 0.031837,
     "end_time": "2022-03-22T12:24:25.512349",
     "exception": false,
     "start_time": "2022-03-22T12:24:25.480512",
     "status": "completed"
    },
    "tags": []
   },
   "outputs": [],
   "source": [
    "outputs = [my_model.layers[i].output for i in [1]]\n",
    "tillFlatten = Model(inputs = my_model.inputs, outputs=outputs)"
   ]
  },
  {
   "cell_type": "markdown",
   "id": "612012d5",
   "metadata": {
    "papermill": {
     "duration": 0.020563,
     "end_time": "2022-03-22T12:24:25.553862",
     "exception": false,
     "start_time": "2022-03-22T12:24:25.533299",
     "status": "completed"
    },
    "tags": []
   },
   "source": [
    "# Prediction of flatten layer"
   ]
  },
  {
   "cell_type": "code",
   "execution_count": 7,
   "id": "2ad6788a",
   "metadata": {
    "execution": {
     "iopub.execute_input": "2022-03-22T12:24:25.599646Z",
     "iopub.status.busy": "2022-03-22T12:24:25.598664Z",
     "iopub.status.idle": "2022-03-22T12:24:26.461907Z",
     "shell.execute_reply": "2022-03-22T12:24:26.461380Z",
     "shell.execute_reply.started": "2022-03-22T12:23:38.573076Z"
    },
    "papermill": {
     "duration": 0.887292,
     "end_time": "2022-03-22T12:24:26.462050",
     "exception": false,
     "start_time": "2022-03-22T12:24:25.574758",
     "status": "completed"
    },
    "tags": []
   },
   "outputs": [
    {
     "name": "stderr",
     "output_type": "stream",
     "text": [
      "2022-03-22 12:24:25.676653: I tensorflow/compiler/mlir/mlir_graph_optimization_pass.cc:185] None of the MLIR Optimization Passes are enabled (registered 2)\n"
     ]
    },
    {
     "data": {
      "text/plain": [
       "(1, 100352)"
      ]
     },
     "execution_count": 7,
     "metadata": {},
     "output_type": "execute_result"
    }
   ],
   "source": [
    "flattenOutput = tillFlatten.predict(img_arr)\n",
    "flattenOutput.shape"
   ]
  },
  {
   "cell_type": "markdown",
   "id": "113c0088",
   "metadata": {
    "papermill": {
     "duration": 0.021527,
     "end_time": "2022-03-22T12:24:26.505424",
     "exception": false,
     "start_time": "2022-03-22T12:24:26.483897",
     "status": "completed"
    },
    "tags": []
   },
   "source": [
    "# *flatten_layer * cat_weights* for dog image input"
   ]
  },
  {
   "cell_type": "code",
   "execution_count": 8,
   "id": "30d0e303",
   "metadata": {
    "execution": {
     "iopub.execute_input": "2022-03-22T12:24:26.552537Z",
     "iopub.status.busy": "2022-03-22T12:24:26.551868Z",
     "iopub.status.idle": "2022-03-22T12:24:26.557379Z",
     "shell.execute_reply": "2022-03-22T12:24:26.557906Z",
     "shell.execute_reply.started": "2022-03-22T12:23:39.185980Z"
    },
    "papermill": {
     "duration": 0.030904,
     "end_time": "2022-03-22T12:24:26.558073",
     "exception": false,
     "start_time": "2022-03-22T12:24:26.527169",
     "status": "completed"
    },
    "tags": []
   },
   "outputs": [
    {
     "data": {
      "text/plain": [
       "-226.4255"
      ]
     },
     "execution_count": 8,
     "metadata": {},
     "output_type": "execute_result"
    }
   ],
   "source": [
    "np.sum(np.multiply(flattenOutput,cat_weight))"
   ]
  },
  {
   "cell_type": "markdown",
   "id": "99ade294",
   "metadata": {
    "papermill": {
     "duration": 0.022027,
     "end_time": "2022-03-22T12:24:26.602357",
     "exception": false,
     "start_time": "2022-03-22T12:24:26.580330",
     "status": "completed"
    },
    "tags": []
   },
   "source": [
    "# *flatten_layer * dog_weights* for dog image input"
   ]
  },
  {
   "cell_type": "code",
   "execution_count": 9,
   "id": "6f07e00c",
   "metadata": {
    "execution": {
     "iopub.execute_input": "2022-03-22T12:24:26.650975Z",
     "iopub.status.busy": "2022-03-22T12:24:26.649674Z",
     "iopub.status.idle": "2022-03-22T12:24:26.655232Z",
     "shell.execute_reply": "2022-03-22T12:24:26.655821Z",
     "shell.execute_reply.started": "2022-03-22T12:23:39.194892Z"
    },
    "papermill": {
     "duration": 0.031391,
     "end_time": "2022-03-22T12:24:26.656002",
     "exception": false,
     "start_time": "2022-03-22T12:24:26.624611",
     "status": "completed"
    },
    "tags": []
   },
   "outputs": [
    {
     "data": {
      "text/plain": [
       "230.25586"
      ]
     },
     "execution_count": 9,
     "metadata": {},
     "output_type": "execute_result"
    }
   ],
   "source": [
    "np.sum(np.multiply(flattenOutput,dog_weight))"
   ]
  }
 ],
 "metadata": {
  "kernelspec": {
   "display_name": "Python 3",
   "language": "python",
   "name": "python3"
  },
  "language_info": {
   "codemirror_mode": {
    "name": "ipython",
    "version": 3
   },
   "file_extension": ".py",
   "mimetype": "text/x-python",
   "name": "python",
   "nbconvert_exporter": "python",
   "pygments_lexer": "ipython3",
   "version": "3.7.12"
  },
  "papermill": {
   "default_parameters": {},
   "duration": 24.645564,
   "end_time": "2022-03-22T12:24:29.652615",
   "environment_variables": {},
   "exception": null,
   "input_path": "__notebook__.ipynb",
   "output_path": "__notebook__.ipynb",
   "parameters": {},
   "start_time": "2022-03-22T12:24:05.007051",
   "version": "2.3.3"
  }
 },
 "nbformat": 4,
 "nbformat_minor": 5
}
